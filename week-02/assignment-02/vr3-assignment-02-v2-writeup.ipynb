{
 "cells": [
  {
   "cell_type": "markdown",
   "metadata": {},
   "source": [
    "On the five stock portfolio\\footnote{consisting of Apple, Bank Of America, GE, Exxon, and Walmart}, we report both absolute and relative measures of annual return and associated risk since the initial time of investment. For the relative measures, we build a linear model to correlate the portfolio's daily returns with those of the S&P. For a measure of absolute return, we compute the average percent difference between each stock's value on the first data point of the year and the last. For a measure of absolute risk, we compute the standard deviation of the daily returns. Data was obtained from Yahoo Finance. Precise details are given below.\n",
    "\n",
    "##### Relative measures\n",
    "$\\\\$\n",
    "\n",
    "Let $V_i$ be the adjusted closing value of a stock or index on day $i$. The daily return $R_i$ is computed as the percent change from day $i$ and the previous day\n",
    "\n",
    "$$R_i = \\frac{V_i}{V_{i-1}} - 1 $$\n",
    "\n",
    "To measure relative performance of the portfolio relative to the market, we pool the daily returns for each stock and define a linear model \n",
    "\n",
    "$$R_i^{stocks} = \\alpha + \\beta \\times R_i^{market} + \\epsilon_i$$\n",
    "\n",
    "where $\\alpha$, $\\beta$ are the model's intercept and slope, and $\\epsilon_i$ is an error term.\n",
    "\n",
    "We use the estimated intercept alpha and slope beta to measure relative risk and return respectively. Alpha is a measure of excess return with respect to the market. An alpha value equal to zero indicates the portfolio performed  to market expectation. Postive values of alpha performance greater than the market expectation. Beta is a measure of relative risk with respect to the market. A beta value equal to 1 indicates that the portfolio fluctuates as the market does. A beta value less than one indicates less fluctuation than the market, and greater than one indicates more so. Additionally we report the Pearson correlation coefficient $R^2$ for the model. This is a measure of how well the stocks returns are explained by the returns of the market. \n",
    "\n",
    "##### Absolute measures\n",
    "$\\\\$\n",
    "\n",
    "Let $t_0, t_f$ denote the first and last trading days of a year, and let $V_0^s, V_f^s$ be the associated values of a stock $s$ on those days. The absolute annual return $R_{abs}^s$ for stock $s$ is \n",
    "\n",
    "$$R_{abs}^s = \\frac{V_{t_f}^s - V_{t_0}^s}{V_{t_0}^s}$$\n",
    "\n",
    "The total absolute return is computed by taking the mean of the absolute annual returns for each stock\n",
    "\n",
    "$$R_{abs} = \\frac{1}{n}\\sum_{s=1}^n R_{abs}^s$$\n",
    "\n",
    "where $n = 5$ is the number of stocks. We use historical volatility as a measure of absolute risk. This amounts to computing the standard deviation of pooled stock returns.\n",
    "\n",
    "$$\\sigma = \\sqrt{\\frac{1}{m-1} \\sum_i (R^{stocks}_i - \\bar R^{stocks})^2}$$\n",
    "\n",
    "where $m$ is the total number of returns in the portfolio.\n",
    "\n",
    "The reported values are then annualized. We compute the above metrics for each year since the initial investment. The reported values are given in the table below:\n",
    "\n",
    "$\\\\$"
   ]
  },
  {
   "cell_type": "code",
   "execution_count": 47,
   "metadata": {
    "collapsed": false
   },
   "outputs": [],
   "source": [
    "import pandas as pd\n",
    "from tabipy import Table, TableRow, TableCell, TableHeaderRow\n",
    "\n",
    "# Load data\n",
    "results_df = pd.read_csv('./data/results.csv')\n",
    "\n",
    "# Create Latex table\n",
    "class Table_centered(Table):\n",
    "    def _repr_latex_(self):\n",
    "        out = '\\n'.join(r._repr_latex_() for r in self.rows)\n",
    "        if self.has_header:\n",
    "            out = '\\\\hline\\n' + out + '\\\\hline\\n'\n",
    "        return '\\\\begin{center}\\\\begin{tabular}{*{%d}{l}}\\n%s\\\\end{tabular}\\\\end{center}' % \\\n",
    "                        (max(row.column_count() for row in self.rows), out)\n",
    "\n",
    "header = ('Year', 'Alpha', 'Beta', '$R^2$', 'Volatility', 'Abs. Return' )\n",
    "\n",
    "t = Table_centered(TableHeaderRow(*header))\n",
    "N = len(results_df)\n",
    "for i in range(N):\n",
    "    row = results_df.iloc[i].values\n",
    "    year = np.int(row[0])\n",
    "    #Round values\n",
    "    row = [np.round(x, 3) for x in row] \n",
    "    #Truncate strings and format to 3 decimals\n",
    "    row = ['{0:.3f}'.format(x) for x in row] \n",
    "     #Prepend \"\\ \" to non-negative values to align. \"\\\" needed to escape \" \" in Latex code.\n",
    "    row = ['\\ ' + x if x[0] != \"-\" else x for x in row]\n",
    "    row[0] = year\n",
    "    t.append_row(row)"
   ]
  },
  {
   "cell_type": "code",
   "execution_count": 48,
   "metadata": {
    "collapsed": false,
    "scrolled": false
   },
   "outputs": [
    {
     "data": {
      "text/html": [
       "<table>\n",
       "<tr><th >Year</th><th >Alpha</th><th >Beta</th><th >$R^2$</th><th >Volatility</th><th >Abs. Return</th></tr>\n",
       "<tr><td >2010</td><td >\\ 0.242</td><td >\\ 0.387</td><td >\\ 0.052</td><td >\\ 0.522</td><td >\\ 0.186</td></tr>\n",
       "<tr><td >2011</td><td >-0.050</td><td >\\ 1.046</td><td >\\ 0.501</td><td >\\ 0.280</td><td >-0.015</td></tr>\n",
       "<tr><td >2012</td><td >\\ 0.234</td><td >\\ 1.168</td><td >\\ 0.342</td><td >\\ 0.153</td><td >\\ 0.339</td></tr>\n",
       "<tr><td >2013</td><td >\\ 0.001</td><td >\\ 0.860</td><td >\\ 0.230</td><td >\\ 0.133</td><td >\\ 0.208</td></tr>\n",
       "<tr><td >2014</td><td >\\ 0.009</td><td >\\ 0.902</td><td >\\ 0.325</td><td >\\ 0.137</td><td >\\ 0.113</td></tr>\n",
       "<tr><td >2015</td><td >-0.048</td><td >\\ 1.038</td><td >\\ 0.460</td><td >\\ 0.186</td><td >-0.036</td></tr>\n",
       "<tr><td >2016</td><td >\\ 0.273</td><td >\\ 1.110</td><td >\\ 0.447</td><td >\\ 0.263</td><td >-0.065</td></tr>\n",
       "</table>"
      ],
      "text/latex": [
       "\\begin{center}\\begin{tabular}{*{6}{l}}\n",
       "\\hline\n",
       "Year & Alpha & Beta & $R^2$ & Volatility & Abs. Return\\\\\n",
       "\\hline\n",
       "\n",
       "2010 & \\ 0.242 & \\ 0.387 & \\ 0.052 & \\ 0.522 & \\ 0.186\\\\\n",
       "\n",
       "2011 & -0.050 & \\ 1.046 & \\ 0.501 & \\ 0.280 & -0.015\\\\\n",
       "\n",
       "2012 & \\ 0.234 & \\ 1.168 & \\ 0.342 & \\ 0.153 & \\ 0.339\\\\\n",
       "\n",
       "2013 & \\ 0.001 & \\ 0.860 & \\ 0.230 & \\ 0.133 & \\ 0.208\\\\\n",
       "\n",
       "2014 & \\ 0.009 & \\ 0.902 & \\ 0.325 & \\ 0.137 & \\ 0.113\\\\\n",
       "\n",
       "2015 & -0.048 & \\ 1.038 & \\ 0.460 & \\ 0.186 & -0.036\\\\\n",
       "\n",
       "2016 & \\ 0.273 & \\ 1.110 & \\ 0.447 & \\ 0.263 & -0.065\\\\\n",
       "\\hline\n",
       "\\end{tabular}\\end{center}"
      ],
      "text/plain": [
       "<__main__.Table_centered at 0x7f621f75e2b0>"
      ]
     },
     "execution_count": 48,
     "metadata": {},
     "output_type": "execute_result"
    }
   ],
   "source": [
    "t"
   ]
  },
  {
   "cell_type": "markdown",
   "metadata": {},
   "source": [
    "From the table we can see that the relative returns alpha are greater than market for all years but 2011 and 2015. For all but one year (2010), the relative risk beta is about the same as the market, varying between $0.86$ and $1.16$. The volatility is greatest in 2010, but lessens over time. The absolute returns are positive for all years but 2011, 2015, and 2016. The highest gains where in 2012.\n"
   ]
  }
 ],
 "metadata": {
  "kernelspec": {
   "display_name": "Python 3",
   "language": "python",
   "name": "python3"
  },
  "language_info": {
   "codemirror_mode": {
    "name": "ipython",
    "version": 3
   },
   "file_extension": ".py",
   "mimetype": "text/x-python",
   "name": "python",
   "nbconvert_exporter": "python",
   "pygments_lexer": "ipython3",
   "version": "3.4.4"
  }
 },
 "nbformat": 4,
 "nbformat_minor": 0
}
