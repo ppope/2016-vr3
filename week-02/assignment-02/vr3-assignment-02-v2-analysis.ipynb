{
 "cells": [
  {
   "cell_type": "markdown",
   "metadata": {},
   "source": [
    "2/10/2016\n",
    "\n",
    "# Analysis for VR3 Assignment 2\n",
    "\n",
    "The primary equation in this analysis is:\n",
    "$$R_i^{stock} = \\alpha + \\beta \\times R_i^{market} + \\epsilon_i$$\n",
    "\n",
    "\n",
    "Notes\n",
    "* The min date and max dates for a year are not 1/1 and 12/31. \n",
    "\n",
    "References\n",
    "* [Calculating Stock Beta, Volatility, and More by Gouthaman Balaraman](http://gouthamanbalaraman.com/blog/calculating-stock-beta.html)\n",
    "* [What's the difference between alpha and beta? By Investopedia](http://www.investopedia.com/ask/answers/102714/whats-difference-between-alpha-and-beta.asp)"
   ]
  },
  {
   "cell_type": "code",
   "execution_count": 1,
   "metadata": {
    "collapsed": false
   },
   "outputs": [],
   "source": [
    "%matplotlib inline\n",
    "import os\n",
    "from datetime import date\n",
    "import pandas as pd\n",
    "from tabipy import Table, TableRow, TableCell, TableHeaderRow\n",
    "from pandas_datareader.data import DataReader\n",
    "import matplotlib.pyplot as plt"
   ]
  },
  {
   "cell_type": "markdown",
   "metadata": {},
   "source": [
    "# Get Data"
   ]
  },
  {
   "cell_type": "code",
   "execution_count": 2,
   "metadata": {
    "collapsed": false
   },
   "outputs": [],
   "source": [
    "start_date = date(2010,1,29)\n",
    "end_date = date.today()\n",
    "\n",
    "#Specifiy companies here\n",
    "company_syms = ['AAPL', 'BAC', 'GE', 'XOM', 'WMT']\n",
    "#^GSPC is the S&P index\n",
    "df_market = DataReader('^GSPC','yahoo', start_date, end_date)\n",
    "\n",
    "results = []\n",
    "\n",
    "df_stocks = pd.DataFrame()\n",
    "for sym in company_syms:\n",
    "    df_tmp = DataReader(sym, 'yahoo', start_date, end_date)\n",
    "    df_tmp['company'] = sym\n",
    "    df_stocks = pd.concat([df_tmp, df_stocks])\n",
    "\n",
    "#Add year column to for groupby key.\n",
    "df_stocks[\"year\"] = df_stocks.index.year"
   ]
  },
  {
   "cell_type": "markdown",
   "metadata": {},
   "source": [
    "# Compute\n",
    "* Annual return on investment\n",
    "    * Absolute\n",
    "    * Relative to market\n",
    "* Measure of associated risk (e.g. historical volatility)"
   ]
  },
  {
   "cell_type": "code",
   "execution_count": 3,
   "metadata": {
    "collapsed": true
   },
   "outputs": [],
   "source": [
    "df_total = pd.DataFrame({'stock_adjclose': df_stocks['Adj Close'],\n",
    "                         'market_adjclose': df_market['Adj Close'],\n",
    "                         'year': df_stocks['year'],\n",
    "                         'company': df_stocks['company']}, index=df_stocks.index)\n",
    "\n",
    "#Compute Returns\n",
    "df_total['stock_return'] = df_total['stock_adjclose'] / df_total['stock_adjclose'].shift(1) - 1\n",
    "df_total['market_return'] = df_total['market_adjclose'] / df_total['market_adjclose'].shift(1) - 1\n",
    "df_total = df_total.dropna()"
   ]
  },
  {
   "cell_type": "code",
   "execution_count": 5,
   "metadata": {
    "collapsed": true
   },
   "outputs": [],
   "source": [
    "def compute_annual_return(g):\n",
    "    \"\"\"\n",
    "    Computes the relative difference between stock prices on the minimum date, and the maximum. \n",
    "    \"\"\"\n",
    "    date_min = pd.Series(g.index).min()\n",
    "    date_max = pd.Series(g.index).max()\n",
    "    annual_return = (g['stock_adjclose'].loc[date_max] - g['stock_adjclose'].loc[date_min]) / \\\n",
    "                     g['stock_adjclose'].loc[date_min]\n",
    "    return annual_return"
   ]
  },
  {
   "cell_type": "code",
   "execution_count": 6,
   "metadata": {
    "collapsed": false
   },
   "outputs": [],
   "source": [
    "annual_returns = df_total.groupby(['company', 'year']).apply(compute_annual_return)\n",
    "annual_returns = pd.DataFrame(annual_returns)\n",
    "annual_returns = annual_returns.reset_index()\n",
    "#Take mean of annual returns over each stock.\n",
    "mean_annual_returns = annual_returns.groupby('year').apply(np.mean)\n",
    "mean_annual_returns = mean_annual_returns.rename_axis({0: 'mean_annual_return'}, axis=1)"
   ]
  },
  {
   "cell_type": "code",
   "execution_count": 7,
   "metadata": {
    "collapsed": false
   },
   "outputs": [],
   "source": [
    "def regress(g):\n",
    "    X = g['market_return']\n",
    "    Y = g['stock_return']\n",
    "    if len(X) != len(Y):\n",
    "        raise Exception('Regression data are not same size.')\n",
    "    m = pd.stats.ols.OLS(Y, X)\n",
    "    alpha, beta = m.beta['intercept'], m.beta['x']\n",
    "    sd = np.std(X)\n",
    "    r2 = m.r2\n",
    "    \n",
    "    #Annualize\n",
    "    N = 365\n",
    "    alpha = alpha*N\n",
    "    sd = sd*np.sqrt(N)\n",
    "    return pd.Series( {'alpha': alpha, 'beta': beta, \n",
    "                       'r2': r2, 'volatility': sd})"
   ]
  },
  {
   "cell_type": "code",
   "execution_count": 8,
   "metadata": {
    "collapsed": true
   },
   "outputs": [],
   "source": [
    "reg_df = df_total.groupby('year').apply(regress)\n",
    "results_df = pd.concat([reg_df, mean_annual_returns['mean_annual_return']], axis=1)\n",
    "results_df = results_df.reset_index()\n",
    "results_df.to_csv('./data/results.csv', index=None)"
   ]
  },
  {
   "cell_type": "markdown",
   "metadata": {},
   "source": [
    "### Compile Report PDF"
   ]
  },
  {
   "cell_type": "markdown",
   "metadata": {},
   "source": [
    "Compile PDF of `vr3-assignment-02-v2-writeup.ipynb` with custom latex template. "
   ]
  },
  {
   "cell_type": "code",
   "execution_count": 57,
   "metadata": {
    "collapsed": false
   },
   "outputs": [
    {
     "name": "stdout",
     "output_type": "stream",
     "text": [
      "Overwriting latex_nocode.tplx\n"
     ]
    }
   ],
   "source": [
    "%%writefile latex_nocode.tplx\n",
    "((*- extends 'article.tplx' -*))\n",
    "% Disable input cells\n",
    "((* block input_group *))\n",
    "((* endblock input_group *))\n",
    "((* block title *))\n",
    "\\title{VR3 Assignment 2}\n",
    "\\author{Phil Pope}\n",
    "\\date{\\today}\n",
    "((* endblock title *))"
   ]
  },
  {
   "cell_type": "code",
   "execution_count": 85,
   "metadata": {
    "collapsed": false,
    "scrolled": false
   },
   "outputs": [
    {
     "name": "stdout",
     "output_type": "stream",
     "text": [
      "[NbConvertApp] Converting notebook vr3-assignment-02-v2-writeup.ipynb to pdf\n",
      "[NbConvertApp] Writing 15752 bytes to notebook.tex\n",
      "[NbConvertApp] Building PDF\n",
      "[NbConvertApp] Running pdflatex 3 times: ['pdflatex', 'notebook.tex']\n",
      "[NbConvertApp] PDF successfully created\n",
      "[NbConvertApp] Writing 150986 bytes to vr3-assignment-02-v2-writeup.pdf\n"
     ]
    }
   ],
   "source": [
    "!jupyter nbconvert vr3-assignment-02-v2-writeup.ipynb --to=pdf --template=latex_nocode.tplx"
   ]
  }
 ],
 "metadata": {
  "kernelspec": {
   "display_name": "Python 3",
   "language": "python",
   "name": "python3"
  },
  "language_info": {
   "codemirror_mode": {
    "name": "ipython",
    "version": 3
   },
   "file_extension": ".py",
   "mimetype": "text/x-python",
   "name": "python",
   "nbconvert_exporter": "python",
   "pygments_lexer": "ipython3",
   "version": "3.4.4"
  }
 },
 "nbformat": 4,
 "nbformat_minor": 0
}
