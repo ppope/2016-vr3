{
 "cells": [
  {
   "cell_type": "markdown",
   "metadata": {},
   "source": [
    "Phil Pope"
   ]
  },
  {
   "cell_type": "markdown",
   "metadata": {},
   "source": [
    "##### Perceived strengths\n",
    "1. Interest to become better at communication (writing, visualization, presentation)\n",
    "2. Intermediate level at \n",
    "    * EDA with Python and R\n",
    "    * Producing integrated documents with code, writing, images\n",
    "    * Documenting research for reproducibility\n",
    "3. Beginner level at\n",
    "    * D3.js\n",
    "    * Producing dashboards\n",
    "4. Active consumer of Data Science content\n",
    "\n",
    "##### Perceived weaknesses\n",
    "1. Writing clearly and effectively\n",
    "2. Focused reading\n",
    "3. Focused thinking \n",
    "\n",
    "\n",
    "##### What I Am Interested to Learn\n",
    "$$\\\\$$\n",
    "My primary interest is to learn clear and effective communication skills in writing, visualization, and presentation. I have a specific technical interests in gaining facility with interactive visualizations, especially via the JavaScript library D3.js, and with building data driven dashboards.\n",
    "    \n",
    "    \n",
    "#### Valuable/Interesting Visualizations\n",
    "* [David Mimno - Understanding Machine Learning with D3: Visualization for Models and Algorithms](https://www.youtube.com/watch?v=-0Pe30Zz3a0)\n",
    "* [Visualizing Multidimensional Data with D3.js\n",
    "](https://www.youtube.com/watch?v=26AMBYPye2M)\n",
    "* [A World of Change: Climate change through the lens of Google search](https://www.chromeexperiments.com/experiment/a-world-of-change)\n",
    "* [4DVJ - Visualization of stereographic projection of 4D geometries.](https://www.chromeexperiments.com/experiment/4dvj)\n",
    "\n",
    "\n",
    "#### References to tools and their documentation\n",
    "* [D3.js](https://github.com/mbostock/d3/wiki)\n",
    "* [matplotlib](http://matplotlib.org/)\n",
    "* [seaborn](http://stanford.edu/~mwaskom/software/seaborn/)\n",
    "* [ggplot2](http://ggplot2.org/)"
   ]
  }
 ],
 "metadata": {
  "kernelspec": {
   "display_name": "Python 3",
   "language": "python",
   "name": "python3"
  },
  "language_info": {
   "codemirror_mode": {
    "name": "ipython",
    "version": 3
   },
   "file_extension": ".py",
   "mimetype": "text/x-python",
   "name": "python",
   "nbconvert_exporter": "python",
   "pygments_lexer": "ipython3",
   "version": "3.4.3"
  }
 },
 "nbformat": 4,
 "nbformat_minor": 0
}
