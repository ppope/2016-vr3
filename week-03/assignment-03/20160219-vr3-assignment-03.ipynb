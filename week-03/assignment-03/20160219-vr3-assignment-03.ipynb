{
 "cells": [
  {
   "cell_type": "markdown",
   "metadata": {},
   "source": [
    "2/19/2016"
   ]
  },
  {
   "cell_type": "markdown",
   "metadata": {},
   "source": [
    "SUSF salary data obtained from [here](https://prod.flbog.net:4445/pls/apex/f?p=140:1:0:::::).\n",
    "\n",
    "Data description from above:\n",
    "\n",
    "\"\"\"\n",
    "\n",
    "Last Update: 18-DEC-15\n",
    "Applicable Term: FALL 2015 \n",
    "\n",
    "1. Payroll information provided by Florida's 12 State Universities:\n",
    "Annual Salary is the annual amount of money paid to an employee for activities associated with a particular State Program Component. The salaries of certain employees may be funded through several different state program components, including:\n",
    "    * Education and General - funded by state General Revenue, the Florida Lottery and tuition.\n",
    "    * Contracts and Grants - funded through contracts with the federal and state governments and private sources.\n",
    "    * Auxiliaries - funded through university enterprise funds, such as student housing fees and student parking fees.\n",
    "    * Data Center - funded through cost assessments to the various users, such as university-wide data centers.\n",
    "    * Intercollegiate Athletics - funded through student athletic fees and athletic-related receipts (other than booster organization moneys).\n",
    "    * Student Activities - funded through student activity fees.\n",
    "    * Student Financial Aid - funded through student financial aid programs.\n",
    "    * Technology fee - funded by the university imposed technology fees.\n",
    "    * Teaching Hospitals and Allied Clinics - represents the state services related to the support of patients in the J. Hillis Miller Health Center and to the support of the Veterinary Medicine Teaching Hospital.\n",
    "2. Confidential or exempt information under Florida Public Records Law is not included.\n",
    "3. REPORTING ERRORS OR OMISSIONS: If you are a university employee listed on this site and believe the posted information is inaccurate, please contact the Human Resources Office of your employing university.\n",
    "4. CONTACT: The Human Resources Office of the appropriate State University.\n",
    "5. The salaries of university employees may be funded from both public and private revenue sources.\n",
    "\n",
    "\"\"\""
   ]
  },
  {
   "cell_type": "code",
   "execution_count": null,
   "metadata": {
    "collapsed": true
   },
   "outputs": [],
   "source": [
    "%matplotlib inline\n",
    "import os\n",
    "import pandas as pd\n",
    "import seaborn as sns\n",
    "import warnings\n",
    "from tabipy import Table, TableRow, TableCell, TableHeaderRow\n",
    "warnings.filterwarnings('ignore')\n",
    "\n",
    "# Get data\n",
    "if not os.path.exists('./emp.csv'):\n",
    "    !wget -O emp.csv https://prod.flbog.net:4445/pls/apex/f?p=140:30:0\n",
    "df = pd.read_csv('./emp.csv')\n",
    "\n",
    "#Clean column names\n",
    "df.columns = [x.strip().lower().replace(' ', '_') for x in df.columns]\n",
    "\n",
    "# Create Latex table\n",
    "class Table_centered(Table):\n",
    "    def _repr_latex_(self):\n",
    "        out = '\\n'.join(r._repr_latex_() for r in self.rows)\n",
    "        if self.has_header:\n",
    "            out = '\\\\hline\\n' + out + '\\\\hline\\n'\n",
    "        return '\\\\begin{center}\\\\begin{tabular}{*{%d}{l}}\\n%s\\\\end{tabular}\\\\end{center}' % \\\n",
    "                        (max(row.column_count() for row in self.rows), out)\n"
   ]
  },
  {
   "cell_type": "code",
   "execution_count": 4,
   "metadata": {
    "collapsed": false
   },
   "outputs": [
    {
     "data": {
      "text/html": [
       "<div>\n",
       "<table border=\"1\" class=\"dataframe\">\n",
       "  <thead>\n",
       "    <tr style=\"text-align: right;\">\n",
       "      <th></th>\n",
       "      <th>university</th>\n",
       "      <th>budget_entity</th>\n",
       "      <th>position_number</th>\n",
       "      <th>last_name</th>\n",
       "      <th>first_name</th>\n",
       "      <th>mi</th>\n",
       "      <th>employee_type</th>\n",
       "      <th>fte</th>\n",
       "      <th>class_code</th>\n",
       "      <th>class_title</th>\n",
       "      <th>annual_salary</th>\n",
       "      <th>ops_term_amount</th>\n",
       "    </tr>\n",
       "  </thead>\n",
       "  <tbody>\n",
       "    <tr>\n",
       "      <th>0</th>\n",
       "      <td>FAMU</td>\n",
       "      <td>Educational &amp; General</td>\n",
       "      <td>18503000</td>\n",
       "      <td>ABATE</td>\n",
       "      <td>RANDALL</td>\n",
       "      <td>S</td>\n",
       "      <td>SALARIED</td>\n",
       "      <td>0.77</td>\n",
       "      <td>9001</td>\n",
       "      <td>PROFESSOR</td>\n",
       "      <td>153215</td>\n",
       "      <td>NaN</td>\n",
       "    </tr>\n",
       "    <tr>\n",
       "      <th>1</th>\n",
       "      <td>FAMU</td>\n",
       "      <td>Educational &amp; General</td>\n",
       "      <td>18703000</td>\n",
       "      <td>ABAZINGE</td>\n",
       "      <td>MICHAEL</td>\n",
       "      <td>D</td>\n",
       "      <td>SALARIED</td>\n",
       "      <td>0.70</td>\n",
       "      <td>9001</td>\n",
       "      <td>PROFESSOR</td>\n",
       "      <td>79387</td>\n",
       "      <td>NaN</td>\n",
       "    </tr>\n",
       "    <tr>\n",
       "      <th>2</th>\n",
       "      <td>FAMU</td>\n",
       "      <td>Contracts &amp; Grants</td>\n",
       "      <td>18703000</td>\n",
       "      <td>ABAZINGE</td>\n",
       "      <td>MICHAEL</td>\n",
       "      <td>D</td>\n",
       "      <td>SALARIED</td>\n",
       "      <td>0.30</td>\n",
       "      <td>9001</td>\n",
       "      <td>PROFESSOR</td>\n",
       "      <td>34023</td>\n",
       "      <td>NaN</td>\n",
       "    </tr>\n",
       "    <tr>\n",
       "      <th>3</th>\n",
       "      <td>FAMU</td>\n",
       "      <td>Educational &amp; General</td>\n",
       "      <td>18532000</td>\n",
       "      <td>ABDELRAZIG</td>\n",
       "      <td>YASSIR</td>\n",
       "      <td>.</td>\n",
       "      <td>SALARIED</td>\n",
       "      <td>0.75</td>\n",
       "      <td>9002</td>\n",
       "      <td>ASSOCIATE PROFESSOR</td>\n",
       "      <td>92195</td>\n",
       "      <td>NaN</td>\n",
       "    </tr>\n",
       "    <tr>\n",
       "      <th>4</th>\n",
       "      <td>FAMU</td>\n",
       "      <td>Contracts &amp; Grants</td>\n",
       "      <td>18121000</td>\n",
       "      <td>ABLORDEPPEY</td>\n",
       "      <td>SETH</td>\n",
       "      <td>Y</td>\n",
       "      <td>SALARIED</td>\n",
       "      <td>0.10</td>\n",
       "      <td>9001</td>\n",
       "      <td>PROFESSOR</td>\n",
       "      <td>13455</td>\n",
       "      <td>NaN</td>\n",
       "    </tr>\n",
       "  </tbody>\n",
       "</table>\n",
       "</div>"
      ],
      "text/plain": [
       "  university          budget_entity position_number    last_name first_name  \\\n",
       "0       FAMU  Educational & General        18503000        ABATE    RANDALL   \n",
       "1       FAMU  Educational & General        18703000     ABAZINGE    MICHAEL   \n",
       "2       FAMU     Contracts & Grants        18703000     ABAZINGE    MICHAEL   \n",
       "3       FAMU  Educational & General        18532000   ABDELRAZIG     YASSIR   \n",
       "4       FAMU     Contracts & Grants        18121000  ABLORDEPPEY       SETH   \n",
       "\n",
       "  mi employee_type   fte class_code          class_title  annual_salary  \\\n",
       "0  S      SALARIED  0.77       9001            PROFESSOR         153215   \n",
       "1  D      SALARIED  0.70       9001            PROFESSOR          79387   \n",
       "2  D      SALARIED  0.30       9001            PROFESSOR          34023   \n",
       "3  .      SALARIED  0.75       9002  ASSOCIATE PROFESSOR          92195   \n",
       "4  Y      SALARIED  0.10       9001            PROFESSOR          13455   \n",
       "\n",
       "   ops_term_amount  \n",
       "0              NaN  \n",
       "1              NaN  \n",
       "2              NaN  \n",
       "3              NaN  \n",
       "4              NaN  "
      ]
     },
     "execution_count": 4,
     "metadata": {},
     "output_type": "execute_result"
    }
   ],
   "source": [
    "df.head()"
   ]
  },
  {
   "cell_type": "markdown",
   "metadata": {},
   "source": [
    "# EDA"
   ]
  },
  {
   "cell_type": "markdown",
   "metadata": {},
   "source": [
    "What are the total amounts spent on salary by school?"
   ]
  },
  {
   "cell_type": "code",
   "execution_count": 5,
   "metadata": {
    "collapsed": false
   },
   "outputs": [
    {
     "data": {
      "text/html": [
       "<div>\n",
       "<table border=\"1\" class=\"dataframe\">\n",
       "  <thead>\n",
       "    <tr style=\"text-align: right;\">\n",
       "      <th></th>\n",
       "      <th>uni_salary_expenditure</th>\n",
       "      <th>prop_total_salary_expenditure</th>\n",
       "    </tr>\n",
       "    <tr>\n",
       "      <th>university</th>\n",
       "      <th></th>\n",
       "      <th></th>\n",
       "    </tr>\n",
       "  </thead>\n",
       "  <tbody>\n",
       "    <tr>\n",
       "      <th>FPU</th>\n",
       "      <td>10863842</td>\n",
       "      <td>0.003325</td>\n",
       "    </tr>\n",
       "    <tr>\n",
       "      <th>NCF</th>\n",
       "      <td>15699426</td>\n",
       "      <td>0.004805</td>\n",
       "    </tr>\n",
       "    <tr>\n",
       "      <th>UWF</th>\n",
       "      <td>74209253</td>\n",
       "      <td>0.022713</td>\n",
       "    </tr>\n",
       "    <tr>\n",
       "      <th>FGCU</th>\n",
       "      <td>81147713</td>\n",
       "      <td>0.024837</td>\n",
       "    </tr>\n",
       "    <tr>\n",
       "      <th>UNF</th>\n",
       "      <td>102196541</td>\n",
       "      <td>0.031279</td>\n",
       "    </tr>\n",
       "    <tr>\n",
       "      <th>FAMU</th>\n",
       "      <td>106702596</td>\n",
       "      <td>0.032658</td>\n",
       "    </tr>\n",
       "    <tr>\n",
       "      <th>FAU</th>\n",
       "      <td>183193343</td>\n",
       "      <td>0.056070</td>\n",
       "    </tr>\n",
       "    <tr>\n",
       "      <th>UCF</th>\n",
       "      <td>337313533</td>\n",
       "      <td>0.103242</td>\n",
       "    </tr>\n",
       "    <tr>\n",
       "      <th>FIU</th>\n",
       "      <td>346047645</td>\n",
       "      <td>0.105915</td>\n",
       "    </tr>\n",
       "    <tr>\n",
       "      <th>FSU</th>\n",
       "      <td>398613293</td>\n",
       "      <td>0.122004</td>\n",
       "    </tr>\n",
       "    <tr>\n",
       "      <th>USF</th>\n",
       "      <td>469465842</td>\n",
       "      <td>0.143689</td>\n",
       "    </tr>\n",
       "    <tr>\n",
       "      <th>UF</th>\n",
       "      <td>1141774193</td>\n",
       "      <td>0.349463</td>\n",
       "    </tr>\n",
       "  </tbody>\n",
       "</table>\n",
       "</div>"
      ],
      "text/plain": [
       "            uni_salary_expenditure  prop_total_salary_expenditure\n",
       "university                                                       \n",
       "FPU                       10863842                       0.003325\n",
       "NCF                       15699426                       0.004805\n",
       "UWF                       74209253                       0.022713\n",
       "FGCU                      81147713                       0.024837\n",
       "UNF                      102196541                       0.031279\n",
       "FAMU                     106702596                       0.032658\n",
       "FAU                      183193343                       0.056070\n",
       "UCF                      337313533                       0.103242\n",
       "FIU                      346047645                       0.105915\n",
       "FSU                      398613293                       0.122004\n",
       "USF                      469465842                       0.143689\n",
       "UF                      1141774193                       0.349463"
      ]
     },
     "execution_count": 5,
     "metadata": {},
     "output_type": "execute_result"
    }
   ],
   "source": [
    "sal_totals_by_uni = df.groupby('university').apply(lambda x: np.sum(x['annual_salary'].dropna()))\n",
    "sal_totals_by_uni = sal_totals_by_uni.sort_values()\n",
    "sal_totals_by_uni = pd.DataFrame({'uni_salary_expenditure': sal_totals_by_uni})\n",
    "sal_totals_by_uni['prop_total_salary_expenditure'] = sal_totals_by_uni['uni_salary_expenditure'] /\\\n",
    "                                                     sal_totals_by_uni['uni_salary_expenditure'].sum()\n",
    "\n",
    "    \n",
    "sal_totals_by_uni = sal_totals_by_uni.reset_index()\n",
    "\n",
    "header = ('University', 'Salary Expenditure ($)', 'Prop. of Total Salary Expenditure')\n",
    "\n",
    "t = Table_centered(TableHeaderRow(*header))\n",
    "N = len(sal_totals_by_uni)\n",
    "for i in range(N):\n",
    "    row = sal_totals_by_uni.iloc[i].values\n",
    "    uni = row[0]\n",
    "    #Round values\n",
    "    row[1] = np.int(row[1])\n",
    "    row[2] = np.round(row[2], 3)\n",
    "    #Truncate strings and format to 3 decimals\n",
    "    row[2] = '{0:.3f}'.format(row[2])\n",
    "    t.append_row(row)"
   ]
  },
  {
   "cell_type": "markdown",
   "metadata": {},
   "source": [
    "2/22/2016\n",
    "\n",
    "Normalize by the number of positions at each university.\n",
    "* Note: some individuals may have multiple positions.\n",
    "* Also normalize by the number of individuals at each university\n",
    "\n",
    "\n",
    "Thoughts\n",
    "* Which individuals have positions across multiple universities?\n",
    "* Which individuals have greater than one FTE?"
   ]
  },
  {
   "cell_type": "code",
   "execution_count": 6,
   "metadata": {
    "collapsed": true
   },
   "outputs": [],
   "source": [
    "def join_names(x):\n",
    "    \"\"\"Join the names. Try/except to catch type errors. \n",
    "    E.g. some names are NaN's\"\"\"\n",
    "    try:\n",
    "        names = ' '.join(x)\n",
    "    except TypeError:\n",
    "        valid_names = [name for name in x if isinstance(name, str)]\n",
    "        names = ' '.join(valid_names)\n",
    "    return names\n",
    "\n",
    "def find_n_individuals(g):\n",
    "    \"\"\"Find the number of unique names to get the number of individuals.\"\"\"\n",
    "    inds = g['full_name'] \n",
    "    return len(np.unique(inds))"
   ]
  },
  {
   "cell_type": "code",
   "execution_count": 7,
   "metadata": {
    "collapsed": true
   },
   "outputs": [],
   "source": [
    "df['full_name'] = df[['first_name', 'last_name', 'mi']].apply(join_names, axis=1)\n",
    "n_pos_by_uni = df.groupby('university').apply(lambda x: len(x))\n",
    "n_inds_by_uni = df.groupby('university').apply(find_n_individuals)\n",
    "sal_totals_by_uni['avg_uni_salary_per_pos'] = sal_totals_by_uni['uni_salary_expenditure'] / n_pos_by_uni\n",
    "sal_totals_by_uni['avg_uni_salary_per_ind'] = sal_totals_by_uni['uni_salary_expenditure'] / n_inds_by_uni"
   ]
  },
  {
   "cell_type": "code",
   "execution_count": 8,
   "metadata": {
    "collapsed": false
   },
   "outputs": [
    {
     "data": {
      "text/html": [
       "<div>\n",
       "<table border=\"1\" class=\"dataframe\">\n",
       "  <thead>\n",
       "    <tr style=\"text-align: right;\">\n",
       "      <th></th>\n",
       "      <th>uni_salary_expenditure</th>\n",
       "      <th>prop_total_salary_expenditure</th>\n",
       "      <th>avg_uni_salary_per_pos</th>\n",
       "      <th>avg_uni_salary_per_ind</th>\n",
       "    </tr>\n",
       "    <tr>\n",
       "      <th>university</th>\n",
       "      <th></th>\n",
       "      <th></th>\n",
       "      <th></th>\n",
       "      <th></th>\n",
       "    </tr>\n",
       "  </thead>\n",
       "  <tbody>\n",
       "    <tr>\n",
       "      <th>FPU</th>\n",
       "      <td>10863842</td>\n",
       "      <td>0.003325</td>\n",
       "      <td>58407.752688</td>\n",
       "      <td>62079.097143</td>\n",
       "    </tr>\n",
       "    <tr>\n",
       "      <th>NCF</th>\n",
       "      <td>15699426</td>\n",
       "      <td>0.004805</td>\n",
       "      <td>44223.735211</td>\n",
       "      <td>52506.441472</td>\n",
       "    </tr>\n",
       "    <tr>\n",
       "      <th>UWF</th>\n",
       "      <td>74209253</td>\n",
       "      <td>0.022713</td>\n",
       "      <td>42870.741190</td>\n",
       "      <td>47815.240335</td>\n",
       "    </tr>\n",
       "    <tr>\n",
       "      <th>FGCU</th>\n",
       "      <td>81147713</td>\n",
       "      <td>0.024837</td>\n",
       "      <td>43186.648749</td>\n",
       "      <td>52761.842003</td>\n",
       "    </tr>\n",
       "    <tr>\n",
       "      <th>UNF</th>\n",
       "      <td>102196541</td>\n",
       "      <td>0.031279</td>\n",
       "      <td>43861.176395</td>\n",
       "      <td>47621.873719</td>\n",
       "    </tr>\n",
       "    <tr>\n",
       "      <th>FAMU</th>\n",
       "      <td>106702596</td>\n",
       "      <td>0.032658</td>\n",
       "      <td>45098.307692</td>\n",
       "      <td>55894.497643</td>\n",
       "    </tr>\n",
       "    <tr>\n",
       "      <th>FAU</th>\n",
       "      <td>183193343</td>\n",
       "      <td>0.056070</td>\n",
       "      <td>33824.472489</td>\n",
       "      <td>57355.461177</td>\n",
       "    </tr>\n",
       "    <tr>\n",
       "      <th>UCF</th>\n",
       "      <td>337313533</td>\n",
       "      <td>0.103242</td>\n",
       "      <td>46156.750547</td>\n",
       "      <td>59407.103381</td>\n",
       "    </tr>\n",
       "    <tr>\n",
       "      <th>FIU</th>\n",
       "      <td>346047645</td>\n",
       "      <td>0.105915</td>\n",
       "      <td>41108.059515</td>\n",
       "      <td>59285.188453</td>\n",
       "    </tr>\n",
       "    <tr>\n",
       "      <th>FSU</th>\n",
       "      <td>398613293</td>\n",
       "      <td>0.122004</td>\n",
       "      <td>33927.423015</td>\n",
       "      <td>58983.914324</td>\n",
       "    </tr>\n",
       "    <tr>\n",
       "      <th>USF</th>\n",
       "      <td>469465842</td>\n",
       "      <td>0.143689</td>\n",
       "      <td>32599.530727</td>\n",
       "      <td>54818.524288</td>\n",
       "    </tr>\n",
       "    <tr>\n",
       "      <th>UF</th>\n",
       "      <td>1141774193</td>\n",
       "      <td>0.349463</td>\n",
       "      <td>39796.939456</td>\n",
       "      <td>72209.346888</td>\n",
       "    </tr>\n",
       "  </tbody>\n",
       "</table>\n",
       "</div>"
      ],
      "text/plain": [
       "            uni_salary_expenditure  prop_total_salary_expenditure  \\\n",
       "university                                                          \n",
       "FPU                       10863842                       0.003325   \n",
       "NCF                       15699426                       0.004805   \n",
       "UWF                       74209253                       0.022713   \n",
       "FGCU                      81147713                       0.024837   \n",
       "UNF                      102196541                       0.031279   \n",
       "FAMU                     106702596                       0.032658   \n",
       "FAU                      183193343                       0.056070   \n",
       "UCF                      337313533                       0.103242   \n",
       "FIU                      346047645                       0.105915   \n",
       "FSU                      398613293                       0.122004   \n",
       "USF                      469465842                       0.143689   \n",
       "UF                      1141774193                       0.349463   \n",
       "\n",
       "            avg_uni_salary_per_pos  avg_uni_salary_per_ind  \n",
       "university                                                  \n",
       "FPU                   58407.752688            62079.097143  \n",
       "NCF                   44223.735211            52506.441472  \n",
       "UWF                   42870.741190            47815.240335  \n",
       "FGCU                  43186.648749            52761.842003  \n",
       "UNF                   43861.176395            47621.873719  \n",
       "FAMU                  45098.307692            55894.497643  \n",
       "FAU                   33824.472489            57355.461177  \n",
       "UCF                   46156.750547            59407.103381  \n",
       "FIU                   41108.059515            59285.188453  \n",
       "FSU                   33927.423015            58983.914324  \n",
       "USF                   32599.530727            54818.524288  \n",
       "UF                    39796.939456            72209.346888  "
      ]
     },
     "execution_count": 8,
     "metadata": {},
     "output_type": "execute_result"
    }
   ],
   "source": [
    "sal_totals_by_uni"
   ]
  },
  {
   "cell_type": "markdown",
   "metadata": {},
   "source": [
    "Is position number a unique identifier for an individual?\n",
    "* Check by comparing number of unique names vs. number of unique positions."
   ]
  },
  {
   "cell_type": "code",
   "execution_count": 9,
   "metadata": {
    "collapsed": false
   },
   "outputs": [
    {
     "data": {
      "text/plain": [
       "(52607, 53237)"
      ]
     },
     "execution_count": 9,
     "metadata": {},
     "output_type": "execute_result"
    }
   ],
   "source": [
    "n_pos = len(df.groupby('position_number'))\n",
    "n_inds = len(df.groupby('full_name'))\n",
    "n_pos, n_inds"
   ]
  },
  {
   "cell_type": "markdown",
   "metadata": {},
   "source": [
    "No. There are more individuals than positions.\n",
    "* This likely means that "
   ]
  },
  {
   "cell_type": "markdown",
   "metadata": {},
   "source": [
    "# Get university populations\n",
    "\n",
    "\n",
    "\n",
    "Above I normalized by the number of individuals / positions. However, I think it is more meaningful to normalize by the number of students at a university. When one talks about the size of a uni, that is the measure.\n",
    "\n",
    "\n",
    "Headcounts by university obtained from [here](http://www.flbog.edu/resources/_doc/factbooks/quickfacts/SUS_Headcount_Enrollment_1905-present_2015-7-28.xls)."
   ]
  },
  {
   "cell_type": "code",
   "execution_count": 10,
   "metadata": {
    "collapsed": false
   },
   "outputs": [],
   "source": [
    "#Get data\n",
    "if not os.path.exists('./SUS_Headcount_Enrollment_1905-present_2015-7-28.xls'):\n",
    "    !wget http://www.flbog.edu/resources/_doc/factbooks/quickfacts/SUS_Headcount_Enrollment_1905-present_2015-7-28.xls\n",
    "\n",
    "df_pop = pd.read_excel('./SUS_Headcount_Enrollment_1905-present_2015-7-28.xls', skiprows=4)\n",
    "max_year_ind = df_pop['Year'].idxmax()\n",
    "unis = ['FAMU', 'FAU', 'FGCU', 'FIU', 'FPU', 'FSU', 'NCF', 'UCF', 'UF', 'UNF','USF', 'UWF']\n",
    "latest_pop = df_pop.loc[max_year_ind][unis]\n",
    "total_uni_sal_by_student_pop = sal_totals_by_uni['uni_salary_expenditure'] / latest_pop\n",
    "total_uni_sal_by_student_pop = total_uni_sal_by_student_pop.sort_values()"
   ]
  },
  {
   "cell_type": "markdown",
   "metadata": {},
   "source": [
    "This indicates that NCF is fairly high on the list of salary dollars per student."
   ]
  },
  {
   "cell_type": "code",
   "execution_count": 11,
   "metadata": {
    "collapsed": false
   },
   "outputs": [
    {
     "data": {
      "text/plain": [
       "<matplotlib.axes._subplots.AxesSubplot at 0x7fb3928364a8>"
      ]
     },
     "execution_count": 11,
     "metadata": {},
     "output_type": "execute_result"
    },
    {
     "data": {
      "image/png": "[encoded data removed]",
      "text/plain": [
       "<matplotlib.figure.Figure at 0x7fb3cc08d860>"
      ]
     },
     "metadata": {},
     "output_type": "display_data"
    }
   ],
   "source": [
    "k = 'uni_salary_expenditure_by_n_students'\n",
    "total_uni_sal_by_student_pop = pd.DataFrame({k: total_uni_sal_by_student_pop})\n",
    "total_uni_sal_by_student_pop = total_uni_sal_by_student_pop.reset_index()\n",
    "total_uni_sal_by_student_pop = total_uni_sal_by_student_pop.rename_axis({'index': 'university'}, axis=1)\n",
    "total_uni_sal_by_student_pop[k] = total_uni_sal_by_student_pop[k].astype('float')\n",
    "sns.barplot(x='university', y=k, data=total_uni_sal_by_student_pop)"
   ]
  },
  {
   "cell_type": "markdown",
   "metadata": {},
   "source": [
    "### Repeat analysis faceted by faculty, administration, and staff"
   ]
  },
  {
   "cell_type": "markdown",
   "metadata": {},
   "source": [
    "The above is with respect to all titles, some of which are faculty, some of which are administration, most of which are staff."
   ]
  },
  {
   "cell_type": "code",
   "execution_count": 12,
   "metadata": {
    "collapsed": false
   },
   "outputs": [
    {
     "data": {
      "text/plain": [
       "array(['PROFESSOR', 'ASSOCIATE PROFESSOR', 'INSTRUCTOR', ...,\n",
       "       'INTERNAL AUDITOR III', 'PROCUREMENT AGENT',\n",
       "       'ASSOC. DEAN, STUDENT AFFAIRS'], dtype=object)"
      ]
     },
     "execution_count": 12,
     "metadata": {},
     "output_type": "execute_result"
    }
   ],
   "source": [
    "titles = df['class_title'].unique()\n",
    "titles"
   ]
  },
  {
   "cell_type": "markdown",
   "metadata": {},
   "source": [
    "#### Identify faculty titles"
   ]
  },
  {
   "cell_type": "markdown",
   "metadata": {},
   "source": [
    "We string match to help identify faculty titles.\n",
    "* Helpful for identifying keywords: [Wiki - Academic ranks in the United States](https://en.wikipedia.org/wiki/Academic_ranks_in_the_United_States) "
   ]
  },
  {
   "cell_type": "code",
   "execution_count": 13,
   "metadata": {
    "collapsed": false
   },
   "outputs": [],
   "source": [
    "FAC_KEY_WORDS = ['professor', 'faculty', 'instructor', 'lecturer']\n",
    "fac_matches = []\n",
    "for T in titles:\n",
    "    t = str(T).lower()\n",
    "    for kw in FAC_KEY_WORDS:\n",
    "        if kw in t:\n",
    "            fac_matches.append(T)"
   ]
  },
  {
   "cell_type": "code",
   "execution_count": 14,
   "metadata": {
    "collapsed": false
   },
   "outputs": [
    {
     "data": {
      "text/plain": [
       "['PROFESSOR',\n",
       " 'ASSOCIATE PROFESSOR',\n",
       " 'INSTRUCTOR',\n",
       " 'UNIVERSITY SCHOOL INSTRUCTOR',\n",
       " 'ASSISTANT PROFESSOR',\n",
       " 'FACULTY ADMINISTRATOR',\n",
       " 'UNIVERSITY SCHOOL ASSISTANT PROFESSOR',\n",
       " 'INSTRUCTOR, LIBRARIAN',\n",
       " 'LECTURER',\n",
       " 'DISTINGUISHED PROFESSOR']"
      ]
     },
     "execution_count": 14,
     "metadata": {},
     "output_type": "execute_result"
    }
   ],
   "source": [
    "#First ten potential matches\n",
    "fac_matches[:10]"
   ]
  },
  {
   "cell_type": "markdown",
   "metadata": {},
   "source": [
    "I filter this list appropriately to exclude admin and staff (e.g. 'DIR FACULTY DEV COM')"
   ]
  },
  {
   "cell_type": "code",
   "execution_count": 15,
   "metadata": {
    "collapsed": false
   },
   "outputs": [],
   "source": [
    "faculty_titles = ['PROFESSOR', 'ASSOCIATE PROFESSOR', 'INSTRUCTOR', 'UNIVERSITY SCHOOL INSTRUCTOR',\n",
    "                  'ASSISTANT PROFESSOR', 'UNIVERSITY SCHOOL ASSISTANT PROFESSOR', 'INSTRUCTOR LIBRARIAN', \n",
    "                  'LECTURER', 'DISTINGUISHED PROFESSOR','FACULTY (GENERIC)',\n",
    "                  'UNIVERSITY SCHOOL ASSOCIATE PROFESSOR','UNIVERSITY SCHOOL PROFESSOR',\n",
    "                  'GRADUATE RESEARCH PROFESSOR', 'PROVOST/ASSOC. PROFESSOR','ADJUNCT FACULTY',\n",
    "                  'DEAN/ASSOCIATE PROFESSOR','INSTRUCTOR I','ASSOC PROFESSOR']"
   ]
  },
  {
   "cell_type": "markdown",
   "metadata": {},
   "source": [
    "I use this list to define what titles are faculty, and then create an indicator variable on the data"
   ]
  },
  {
   "cell_type": "markdown",
   "metadata": {},
   "source": [
    "#### Identify admin titles "
   ]
  },
  {
   "cell_type": "markdown",
   "metadata": {},
   "source": [
    "Similary, we do the same for administration"
   ]
  },
  {
   "cell_type": "code",
   "execution_count": 16,
   "metadata": {
    "collapsed": false
   },
   "outputs": [],
   "source": [
    "ADMIN_KEY_WORDS = ['president', 'chancellor', 'registrar'\n",
    "                   'board' 'admin', 'provost', 'dean', 'vp']\n",
    "admin_matches = []\n",
    "for T in titles:\n",
    "    t = str(T).lower()\n",
    "    for kw in ADMIN_KEY_WORDS:\n",
    "        if kw in t:\n",
    "            #set_trace()\n",
    "            admin_matches.append(T)"
   ]
  },
  {
   "cell_type": "code",
   "execution_count": 17,
   "metadata": {
    "collapsed": false
   },
   "outputs": [
    {
     "data": {
      "text/plain": [
       "['ASSOC VP STUDENT AFFAIRS',\n",
       " 'ASST VP,ACADEMIC AFFAIRS',\n",
       " 'ASST VP, ADMIN & FINANCIAL SVC',\n",
       " 'ASST VP STUDENT AFFAIRS',\n",
       " 'ASSOC VP, INFORMATI TECHNOLOGY',\n",
       " 'VP, FINANCE & ADMINISTRATI/CFO',\n",
       " 'VP, UNIVERSITY ADVANCEMENT',\n",
       " 'ASSC VP, ADVANCE/ALUMNI AFFAIR',\n",
       " 'ASSOC VP FINANCE & ADMINISTRAT',\n",
       " 'VP STUDENT AFFAIRS']"
      ]
     },
     "execution_count": 17,
     "metadata": {},
     "output_type": "execute_result"
    }
   ],
   "source": [
    "#First ten potential matches\n",
    "admin_matches[:10]"
   ]
  },
  {
   "cell_type": "markdown",
   "metadata": {},
   "source": [
    "This list was checked to exclude faculty and staff. Administrative assistants were kept."
   ]
  },
  {
   "cell_type": "code",
   "execution_count": 18,
   "metadata": {
    "collapsed": true
   },
   "outputs": [],
   "source": [
    "admin_titles = admin_matches"
   ]
  },
  {
   "cell_type": "markdown",
   "metadata": {},
   "source": [
    "### Identify staff"
   ]
  },
  {
   "cell_type": "markdown",
   "metadata": {},
   "source": [
    "Lastly, the remainder of titles will be considered as staff."
   ]
  },
  {
   "cell_type": "code",
   "execution_count": 19,
   "metadata": {
    "collapsed": false
   },
   "outputs": [],
   "source": [
    "staff_titles = set(titles).difference(faculty_titles).difference(admin_titles)"
   ]
  },
  {
   "cell_type": "markdown",
   "metadata": {},
   "source": [
    "### Add Indicator variable"
   ]
  },
  {
   "cell_type": "code",
   "execution_count": 20,
   "metadata": {
    "collapsed": true
   },
   "outputs": [],
   "source": [
    "def identify_position(x):\n",
    "    if x in faculty_titles:\n",
    "        return 'faculty'\n",
    "    elif x in admin_titles:\n",
    "        return 'admin'\n",
    "    else:\n",
    "        return 'staff'"
   ]
  },
  {
   "cell_type": "code",
   "execution_count": 21,
   "metadata": {
    "collapsed": false
   },
   "outputs": [],
   "source": [
    "df['position_indicator'] = df['class_title'].apply(identify_position)"
   ]
  },
  {
   "cell_type": "markdown",
   "metadata": {},
   "source": [
    "### Breakdown salary info by title indicator"
   ]
  },
  {
   "cell_type": "code",
   "execution_count": 22,
   "metadata": {
    "collapsed": false
   },
   "outputs": [],
   "source": [
    "sal_by_uni_and_title = df.groupby(['university', 'position_indicator']).apply(lambda x: np.sum(x['annual_salary'].dropna()))\n",
    "sal_by_uni_and_title = pd.DataFrame({'salary_expenditure': sal_by_uni_and_title})\n",
    "#Get counts of the number of positions for each title type\n",
    "sal_by_uni_and_title['N_pos'] = df.groupby(['university', 'position_indicator']).apply(lambda x: len(x['annual_salary'].dropna()))\n",
    "#Compute mean salary by type and uni\n",
    "sal_by_uni_and_title['mean_salary_per_pos'] = sal_by_uni_and_title['salary_expenditure'] / \\\n",
    "                                                         sal_by_uni_and_title['N_pos']"
   ]
  },
  {
   "cell_type": "code",
   "execution_count": 23,
   "metadata": {
    "collapsed": false
   },
   "outputs": [],
   "source": [
    "sal_exp_per_student = sal_by_uni_and_title.reset_index(level='position_indicator')['salary_expenditure'] / latest_pop\n",
    "sal_exp_per_student = sal_exp_per_student.reset_index(drop=True)\n",
    "sal_by_uni_and_title = sal_by_uni_and_title.reset_index()\n",
    "sal_by_uni_and_title['sal_exp_per_student'] = sal_exp_per_student\n",
    "sal_by_uni_and_title = sal_by_uni_and_title.sort_values(['university', 'position_indicator'])"
   ]
  },
  {
   "cell_type": "markdown",
   "metadata": {},
   "source": [
    "#### Salary expenditure by university and position type, normalized by number of positions"
   ]
  },
  {
   "cell_type": "code",
   "execution_count": 32,
   "metadata": {
    "collapsed": false,
    "scrolled": false
   },
   "outputs": [
    {
     "data": {
      "image/png": "[encoded data removed]",
      "text/plain": [
       "<matplotlib.figure.Figure at 0x7fb3927c7518>"
      ]
     },
     "metadata": {},
     "output_type": "display_data"
    }
   ],
   "source": [
    "sns.barplot(x='university', y='mean_salary_per_pos', hue='position_indicator', data=sal_by_uni_and_title)\n"
   ]
  },
  {
   "cell_type": "markdown",
   "metadata": {},
   "source": [
    "#### Salary expenditure by university and position type, normalized by the number of students"
   ]
  },
  {
   "cell_type": "code",
   "execution_count": 25,
   "metadata": {
    "collapsed": false
   },
   "outputs": [
    {
     "data": {
      "text/plain": [
       "<matplotlib.axes._subplots.AxesSubplot at 0x7fb392aa96a0>"
      ]
     },
     "execution_count": 25,
     "metadata": {},
     "output_type": "execute_result"
    },
    {
     "data": {
      "image/png": "[encoded data removed]",
      "text/plain": [
       "<matplotlib.figure.Figure at 0x7fb393911780>"
      ]
     },
     "metadata": {},
     "output_type": "display_data"
    }
   ],
   "source": [
    "sns.barplot(x='university', y='sal_exp_per_student', hue='position_indicator', data=sal_by_uni_and_title)"
   ]
  },
  {
   "cell_type": "markdown",
   "metadata": {},
   "source": [
    "Interestingly, FAMU does not have any matches for admins (as measured by my filter)."
   ]
  },
  {
   "cell_type": "markdown",
   "metadata": {},
   "source": [
    "### Distributions of salaries by position type"
   ]
  },
  {
   "cell_type": "code",
   "execution_count": 30,
   "metadata": {
    "collapsed": false
   },
   "outputs": [
    {
     "data": {
      "text/plain": [
       "<matplotlib.axes._subplots.AxesSubplot at 0x7fb3927b6048>"
      ]
     },
     "execution_count": 30,
     "metadata": {},
     "output_type": "execute_result"
    },
    {
     "data": {
      "image/png": "[encoded data removed]",
      "text/plain": [
       "<matplotlib.figure.Figure at 0x7fb392773470>"
      ]
     },
     "metadata": {},
     "output_type": "display_data"
    }
   ],
   "source": [
    "sns.boxplot(y = \"annual_salary\", x = \"position_indicator\", data=df, notch = True, fliersize=1.5)"
   ]
  },
  {
   "cell_type": "markdown",
   "metadata": {},
   "source": [
    "### Distributions of salaries by position type and school"
   ]
  },
  {
   "cell_type": "markdown",
   "metadata": {},
   "source": [
    "The plot indicates that the median salary for faculty is lower than that of the administration. However, the faculty have a much greater range than the administration, with many outliers."
   ]
  },
  {
   "cell_type": "markdown",
   "metadata": {},
   "source": [
    "### Compile PDF"
   ]
  },
  {
   "cell_type": "code",
   "execution_count": 38,
   "metadata": {
    "collapsed": false
   },
   "outputs": [
    {
     "name": "stdout",
     "output_type": "stream",
     "text": [
      "[NbConvertApp] Converting notebook vr3-assignment-03.ipynb to pdf\n",
      "[NbConvertApp] Support files will be in vr3-assignment-03_files/\n",
      "[NbConvertApp] Making directory vr3-assignment-03_files\n",
      "[NbConvertApp] Making directory vr3-assignment-03_files\n",
      "[NbConvertApp] Making directory vr3-assignment-03_files\n",
      "[NbConvertApp] Making directory vr3-assignment-03_files\n",
      "[NbConvertApp] Writing 15796 bytes to notebook.tex\n",
      "[NbConvertApp] Building PDF\n",
      "[NbConvertApp] Running pdflatex 3 times: ['pdflatex', 'notebook.tex']\n",
      "[NbConvertApp] PDF successfully created\n",
      "[NbConvertApp] Support files will be in vr3-assignment-03_files/\n",
      "[NbConvertApp] Making directory vr3-assignment-03_files\n",
      "[NbConvertApp] Making directory vr3-assignment-03_files\n",
      "[NbConvertApp] Making directory vr3-assignment-03_files\n",
      "[NbConvertApp] Making directory vr3-assignment-03_files\n",
      "[NbConvertApp] Writing 135636 bytes to vr3-assignment-03.pdf\n"
     ]
    }
   ],
   "source": [
    "!jupyter nbconvert vr3-assignment-03.ipynb --to=pdf --template=latex_nocode.tplx"
   ]
  }
 ],
 "metadata": {
  "kernelspec": {
   "display_name": "Python 3",
   "language": "python",
   "name": "python3"
  },
  "language_info": {
   "codemirror_mode": {
    "name": "ipython",
    "version": 3
   },
   "file_extension": ".py",
   "mimetype": "text/x-python",
   "name": "python",
   "nbconvert_exporter": "python",
   "pygments_lexer": "ipython3",
   "version": "3.4.4"
  }
 },
 "nbformat": 4,
 "nbformat_minor": 0
}
